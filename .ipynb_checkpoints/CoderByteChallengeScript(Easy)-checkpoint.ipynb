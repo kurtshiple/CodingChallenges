{
 "cells": [
  {
   "cell_type": "markdown",
   "metadata": {},
   "source": [
    "#1 First Reverse\n",
    "\n",
    "Have the function FirstReverse(str) take the str parameter being passed and return the string in reversed order. For example: if the input string is \"Hello World and Coders\" then your program should return the string sredoC dna dlroW olleH.\n",
    "\n",
    "Examples\n",
    "\n",
    "Input: \"coderbyte\"\n",
    "Output: etybredoc\n",
    "\n",
    "Input: \"I Love Code\"\n",
    "Output: edoC evoL I"
   ]
  },
  {
   "cell_type": "code",
   "execution_count": 2,
   "metadata": {},
   "outputs": [],
   "source": [
    "def FirstReverse(str):\n",
    "    \n",
    "    return str[::-1]"
   ]
  },
  {
   "cell_type": "code",
   "execution_count": 3,
   "metadata": {},
   "outputs": [
    {
     "data": {
      "text/plain": [
       "'dlroW olleH'"
      ]
     },
     "execution_count": 3,
     "metadata": {},
     "output_type": "execute_result"
    }
   ],
   "source": [
    "FirstReverse(\"Hello World\")"
   ]
  },
  {
   "cell_type": "code",
   "execution_count": 4,
   "metadata": {},
   "outputs": [
    {
     "name": "stdout",
     "output_type": "stream",
     "text": [
      "My name is Kurt\n",
      "truK si eman yM\n"
     ]
    }
   ],
   "source": [
    "print(FirstReverse(input()))"
   ]
  },
  {
   "cell_type": "markdown",
   "metadata": {},
   "source": [
    "#2 First Factorial\n",
    "\n",
    "Have the function FirstFactorial(num) take the num parameter being passed and return the factorial of it. For example: if num = 4, then your program should return (4 * 3 * 2 * 1) = 24. For the test cases, the range will be between 1 and 18 and the input will always be an integer.\n",
    "\n",
    "Examples\n",
    "\n",
    "Input: 4\n",
    "Output: 24\n",
    "\n",
    "Input: 8\n",
    "Output: 40320"
   ]
  },
  {
   "cell_type": "code",
   "execution_count": 14,
   "metadata": {},
   "outputs": [],
   "source": [
    "def FirstFactorial(num):\n",
    "    if num == 1:\n",
    "        return 1\n",
    "    else:\n",
    "        #This is an example of recursion since the function calls on itself. \n",
    "        #When a number is put into the function, the function\n",
    "        #will first check if it is equal to 1 since the factorial equation doesn't count down to zero. If it is\n",
    "        #higher than 1, the function will multiply x * (x-1). But because it's actually x * function(x-1), the \n",
    "        #function is forced to perform x*function(x-1)*function(x-2)*function(x-3)...until x gets reduced to 1\n",
    "        #which is where the function will no longer call on itself.\n",
    "        \n",
    "        return num*FirstFactorial(num-1)"
   ]
  },
  {
   "cell_type": "code",
   "execution_count": 15,
   "metadata": {},
   "outputs": [
    {
     "data": {
      "text/plain": [
       "24"
      ]
     },
     "execution_count": 15,
     "metadata": {},
     "output_type": "execute_result"
    }
   ],
   "source": [
    "FirstFactorial(4)"
   ]
  },
  {
   "cell_type": "code",
   "execution_count": 17,
   "metadata": {},
   "outputs": [
    {
     "data": {
      "text/plain": [
       "40320"
      ]
     },
     "execution_count": 17,
     "metadata": {},
     "output_type": "execute_result"
    }
   ],
   "source": [
    "FirstFactorial(8)"
   ]
  },
  {
   "cell_type": "code",
   "execution_count": 18,
   "metadata": {},
   "outputs": [],
   "source": [
    "def FirstFactorialTwo(num): \n",
    "\n",
    "    #Another way to approach the problem is think of x factorial as a range of integers between 1 and x with\n",
    "    #iterations of 1 that are multiplied against each other. Since the range function in python doesn't count \n",
    "    #up to x but only x-1, you have to make the range equal to range(1,x+1). When iterating over the range \n",
    "    #with a for loop you are making each i multiply against the previous i until the range is completed.\n",
    "    factorial=1\n",
    "    if num<0:\n",
    "      print(\"No factorial exists to this number\")\n",
    "    elif num==0:\n",
    "      print(\"Factorial is 1\")\n",
    "    else:\n",
    "      for i in range(1,num+1):\n",
    "        factorial=factorial*i\n",
    "      return factorial"
   ]
  },
  {
   "cell_type": "code",
   "execution_count": 19,
   "metadata": {},
   "outputs": [
    {
     "data": {
      "text/plain": [
       "24"
      ]
     },
     "execution_count": 19,
     "metadata": {},
     "output_type": "execute_result"
    }
   ],
   "source": [
    "FirstFactorialTwo(4)"
   ]
  },
  {
   "cell_type": "code",
   "execution_count": null,
   "metadata": {},
   "outputs": [],
   "source": []
  }
 ],
 "metadata": {
  "kernelspec": {
   "display_name": "Python 3",
   "language": "python",
   "name": "python3"
  },
  "language_info": {
   "codemirror_mode": {
    "name": "ipython",
    "version": 3
   },
   "file_extension": ".py",
   "mimetype": "text/x-python",
   "name": "python",
   "nbconvert_exporter": "python",
   "pygments_lexer": "ipython3",
   "version": "3.7.2"
  }
 },
 "nbformat": 4,
 "nbformat_minor": 2
}
