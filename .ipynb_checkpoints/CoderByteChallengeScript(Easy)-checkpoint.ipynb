{
 "cells": [
  {
   "cell_type": "markdown",
   "metadata": {},
   "source": [
    "#1 First Reverse\n",
    "\n",
    "Have the function FirstReverse(str) take the str parameter being passed and return the string in reversed order. For example: if the input string is \"Hello World and Coders\" then your program should return the string sredoC dna dlroW olleH.\n",
    "\n",
    "Examples\n",
    "\n",
    "Input: \"coderbyte\"\n",
    "Output: etybredoc\n",
    "\n",
    "Input: \"I Love Code\"\n",
    "Output: edoC evoL I"
   ]
  },
  {
   "cell_type": "code",
   "execution_count": 2,
   "metadata": {},
   "outputs": [],
   "source": [
    "def FirstReverse(str):\n",
    "    \n",
    "    return str[::-1]"
   ]
  },
  {
   "cell_type": "code",
   "execution_count": 3,
   "metadata": {},
   "outputs": [
    {
     "data": {
      "text/plain": [
       "'dlroW olleH'"
      ]
     },
     "execution_count": 3,
     "metadata": {},
     "output_type": "execute_result"
    }
   ],
   "source": [
    "FirstReverse(\"Hello World\")"
   ]
  },
  {
   "cell_type": "code",
   "execution_count": 4,
   "metadata": {},
   "outputs": [
    {
     "name": "stdout",
     "output_type": "stream",
     "text": [
      "My name is Kurt\n",
      "truK si eman yM\n"
     ]
    }
   ],
   "source": [
    "print(FirstReverse(input()))"
   ]
  },
  {
   "cell_type": "markdown",
   "metadata": {},
   "source": [
    "#2 First Factorial\n",
    "\n",
    "Have the function FirstFactorial(num) take the num parameter being passed and return the factorial of it. For example: if num = 4, then your program should return (4 * 3 * 2 * 1) = 24. For the test cases, the range will be between 1 and 18 and the input will always be an integer.\n",
    "\n",
    "Examples\n",
    "\n",
    "Input: 4\n",
    "Output: 24\n",
    "\n",
    "Input: 8\n",
    "Output: 40320"
   ]
  },
  {
   "cell_type": "code",
   "execution_count": 14,
   "metadata": {},
   "outputs": [],
   "source": [
    "def FirstFactorial(num):\n",
    "    if num == 1:\n",
    "        return 1\n",
    "    else:\n",
    "        #This is an example of recursion since the function calls on itself. \n",
    "        #When a number is put into the function, the function\n",
    "        #will first check if it is equal to 1 since the factorial equation doesn't count down to zero. If it is\n",
    "        #higher than 1, the function will multiply x * (x-1). But because it's actually x * function(x-1), the \n",
    "        #function is forced to perform x*function(x-1)*function(x-2)*function(x-3)...until x gets reduced to 1\n",
    "        #which is where the function will no longer call on itself.\n",
    "        \n",
    "        return num*FirstFactorial(num-1)"
   ]
  },
  {
   "cell_type": "code",
   "execution_count": 15,
   "metadata": {},
   "outputs": [
    {
     "data": {
      "text/plain": [
       "24"
      ]
     },
     "execution_count": 15,
     "metadata": {},
     "output_type": "execute_result"
    }
   ],
   "source": [
    "FirstFactorial(4)"
   ]
  },
  {
   "cell_type": "code",
   "execution_count": 17,
   "metadata": {},
   "outputs": [
    {
     "data": {
      "text/plain": [
       "40320"
      ]
     },
     "execution_count": 17,
     "metadata": {},
     "output_type": "execute_result"
    }
   ],
   "source": [
    "FirstFactorial(8)"
   ]
  },
  {
   "cell_type": "code",
   "execution_count": 18,
   "metadata": {},
   "outputs": [],
   "source": [
    "def FirstFactorialTwo(num): \n",
    "\n",
    "    #Another way to approach the problem is think of x factorial as a range of integers between 1 and x with\n",
    "    #iterations of 1 that are multiplied against each other. Since the range function in python doesn't count \n",
    "    #up to x but only x-1, you have to make the range equal to range(1,x+1). When iterating over the range \n",
    "    #with a for loop you are making each i multiply against the previous i until the range is completed.\n",
    "    factorial=1\n",
    "    if num<0:\n",
    "      print(\"No factorial exists to this number\")\n",
    "    elif num==0:\n",
    "      print(\"Factorial is 1\")\n",
    "    else:\n",
    "      for i in range(1,num+1):\n",
    "        factorial=factorial*i\n",
    "      return factorial"
   ]
  },
  {
   "cell_type": "code",
   "execution_count": 19,
   "metadata": {},
   "outputs": [
    {
     "data": {
      "text/plain": [
       "24"
      ]
     },
     "execution_count": 19,
     "metadata": {},
     "output_type": "execute_result"
    }
   ],
   "source": [
    "FirstFactorialTwo(4)"
   ]
  },
  {
   "cell_type": "markdown",
   "metadata": {},
   "source": [
    "#3 Longest Word\n",
    "\n",
    "Have the function LongestWord(sen) take the sen parameter being passed and return the largest word in the string. If there are two or more words that are the same length, return the first word from the string with that length. Ignore punctuation and assume sen will not be empty.\n",
    "\n",
    "Examples\n",
    "\n",
    "Input: \"fun&!! time\"\n",
    "Output: time\n",
    "\n",
    "Input: \"I love dogs\"\n",
    "Output: love"
   ]
  },
  {
   "cell_type": "code",
   "execution_count": 10,
   "metadata": {},
   "outputs": [],
   "source": [
    "#Starting with a blank empty string where we can use arguments later to filter out any unwanted characters.\n",
    "#.isalpha() will return True if the item is from the alphabet. .isnumeric() returns True if \n",
    "#ALL items in a string are numeric. This is done to not count apostrophes or exclamation points etc.\n",
    "#nw is now a string with all unwanted characters removed. Now, the the next step is to split the string\n",
    "#using the .split() function which will put all of the words in our string into a list of strings where\n",
    "#we can then perform a max function with the key of len on the list to choose the item that is longest in length.\n",
    "#This of course will give us the longest word.\n",
    "def LongestWord(sen):\n",
    "    nw = \"\"\n",
    "    for letter in sen:\n",
    "      if letter.isalpha() or letter.isnumeric():\n",
    "        nw += letter\n",
    "        print(nw)\n",
    "        print(nw.split())\n",
    "      else :\n",
    "        nw += \" \"\n",
    "    return max(nw.split(),key=len)"
   ]
  },
  {
   "cell_type": "code",
   "execution_count": 12,
   "metadata": {},
   "outputs": [
    {
     "name": "stdout",
     "output_type": "stream",
     "text": [
      "H\n",
      "['H']\n",
      "He\n",
      "['He']\n",
      "Hel\n",
      "['Hel']\n",
      "Hell\n",
      "['Hell']\n",
      "Hello\n",
      "['Hello']\n",
      "Hello   p\n",
      "['Hello', 'p']\n",
      "Hello   pe\n",
      "['Hello', 'pe']\n",
      "Hello   per\n",
      "['Hello', 'per']\n",
      "Hello   pers\n",
      "['Hello', 'pers']\n",
      "Hello   perso\n",
      "['Hello', 'perso']\n",
      "Hello   person\n",
      "['Hello', 'person']\n",
      "Hello   person    4\n",
      "['Hello', 'person', '4']\n",
      "Hello   person    45\n",
      "['Hello', 'person', '45']\n"
     ]
    },
    {
     "data": {
      "text/plain": [
       "'person'"
      ]
     },
     "execution_count": 12,
     "metadata": {},
     "output_type": "execute_result"
    }
   ],
   "source": [
    "LongestWord(\"Hello!! person%##^45\")"
   ]
  },
  {
   "cell_type": "markdown",
   "metadata": {},
   "source": [
    "#3 Letter Changes\n",
    "\n",
    "Have the function LetterChanges(str) take the str parameter being passed and modify it using the following algorithm. Replace every letter in the string with the letter following it in the alphabet (ie. c becomes d, z becomes a). Then capitalize every vowel in this new string (a, e, i, o, u) and finally return this modified string.\n",
    "\n",
    "Examples\n",
    "\n",
    "Input: \"hello*3\"\n",
    "Output: Ifmmp*3\n",
    "\n",
    "Input: \"fun times!\"\n",
    "Output: gvO Ujnft!"
   ]
  },
  {
   "cell_type": "code",
   "execution_count": null,
   "metadata": {},
   "outputs": [],
   "source": []
  }
 ],
 "metadata": {
  "kernelspec": {
   "display_name": "Python 3",
   "language": "python",
   "name": "python3"
  },
  "language_info": {
   "codemirror_mode": {
    "name": "ipython",
    "version": 3
   },
   "file_extension": ".py",
   "mimetype": "text/x-python",
   "name": "python",
   "nbconvert_exporter": "python",
   "pygments_lexer": "ipython3",
   "version": "3.7.2"
  }
 },
 "nbformat": 4,
 "nbformat_minor": 2
}
