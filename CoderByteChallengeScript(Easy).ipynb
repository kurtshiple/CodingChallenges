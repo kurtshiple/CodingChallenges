{
 "cells": [
  {
   "cell_type": "markdown",
   "metadata": {},
   "source": [
    "#1 First Reverse\n",
    "\n",
    "Have the function FirstReverse(str) take the str parameter being passed and return the string in reversed order. For example: if the input string is \"Hello World and Coders\" then your program should return the string sredoC dna dlroW olleH.\n",
    "\n",
    "Examples\n",
    "\n",
    "Input: \"coderbyte\"\n",
    "Output: etybredoc\n",
    "\n",
    "Input: \"I Love Code\"\n",
    "Output: edoC evoL I"
   ]
  },
  {
   "cell_type": "code",
   "execution_count": 2,
   "metadata": {},
   "outputs": [],
   "source": [
    "def FirstReverse(str):\n",
    "    \n",
    "    return str[::-1]"
   ]
  },
  {
   "cell_type": "code",
   "execution_count": 3,
   "metadata": {},
   "outputs": [
    {
     "data": {
      "text/plain": [
       "'dlroW olleH'"
      ]
     },
     "execution_count": 3,
     "metadata": {},
     "output_type": "execute_result"
    }
   ],
   "source": [
    "FirstReverse(\"Hello World\")"
   ]
  },
  {
   "cell_type": "code",
   "execution_count": 4,
   "metadata": {},
   "outputs": [
    {
     "name": "stdout",
     "output_type": "stream",
     "text": [
      "My name is Kurt\n",
      "truK si eman yM\n"
     ]
    }
   ],
   "source": [
    "print(FirstReverse(input()))"
   ]
  },
  {
   "cell_type": "markdown",
   "metadata": {},
   "source": [
    "#2 First Factorial\n",
    "\n",
    "Have the function FirstFactorial(num) take the num parameter being passed and return the factorial of it. For example: if num = 4, then your program should return (4 * 3 * 2 * 1) = 24. For the test cases, the range will be between 1 and 18 and the input will always be an integer.\n",
    "\n",
    "Examples\n",
    "\n",
    "Input: 4\n",
    "Output: 24\n",
    "\n",
    "Input: 8\n",
    "Output: 40320"
   ]
  },
  {
   "cell_type": "code",
   "execution_count": 14,
   "metadata": {},
   "outputs": [],
   "source": [
    "def FirstFactorial(num):\n",
    "    if num == 1:\n",
    "        return 1\n",
    "    else:\n",
    "        #This is an example of recursion since the function calls on itself. \n",
    "        #When a number is put into the function, the function\n",
    "        #will first check if it is equal to 1 since the factorial equation doesn't count down to zero. If it is\n",
    "        #higher than 1, the function will multiply x * (x-1). But because it's actually x * function(x-1), the \n",
    "        #function is forced to perform x*function(x-1)*function(x-2)*function(x-3)...until x gets reduced to 1\n",
    "        #which is where the function will no longer call on itself.\n",
    "        \n",
    "        return num*FirstFactorial(num-1)"
   ]
  },
  {
   "cell_type": "code",
   "execution_count": 15,
   "metadata": {},
   "outputs": [
    {
     "data": {
      "text/plain": [
       "24"
      ]
     },
     "execution_count": 15,
     "metadata": {},
     "output_type": "execute_result"
    }
   ],
   "source": [
    "FirstFactorial(4)"
   ]
  },
  {
   "cell_type": "code",
   "execution_count": 17,
   "metadata": {},
   "outputs": [
    {
     "data": {
      "text/plain": [
       "40320"
      ]
     },
     "execution_count": 17,
     "metadata": {},
     "output_type": "execute_result"
    }
   ],
   "source": [
    "FirstFactorial(8)"
   ]
  },
  {
   "cell_type": "code",
   "execution_count": 18,
   "metadata": {},
   "outputs": [],
   "source": [
    "def FirstFactorialTwo(num): \n",
    "\n",
    "    #Another way to approach the problem is think of x factorial as a range of integers between 1 and x with\n",
    "    #iterations of 1 that are multiplied against each other. Since the range function in python doesn't count \n",
    "    #up to x but only x-1, you have to make the range equal to range(1,x+1). When iterating over the range \n",
    "    #with a for loop you are making each i multiply against the previous i until the range is completed.\n",
    "    factorial=1\n",
    "    if num<0:\n",
    "      print(\"No factorial exists to this number\")\n",
    "    elif num==0:\n",
    "      print(\"Factorial is 1\")\n",
    "    else:\n",
    "      for i in range(1,num+1):\n",
    "        factorial=factorial*i\n",
    "      return factorial"
   ]
  },
  {
   "cell_type": "code",
   "execution_count": 19,
   "metadata": {},
   "outputs": [
    {
     "data": {
      "text/plain": [
       "24"
      ]
     },
     "execution_count": 19,
     "metadata": {},
     "output_type": "execute_result"
    }
   ],
   "source": [
    "FirstFactorialTwo(4)"
   ]
  },
  {
   "cell_type": "markdown",
   "metadata": {},
   "source": [
    "#3 Longest Word\n",
    "\n",
    "Have the function LongestWord(sen) take the sen parameter being passed and return the largest word in the string. If there are two or more words that are the same length, return the first word from the string with that length. Ignore punctuation and assume sen will not be empty.\n",
    "\n",
    "Examples\n",
    "\n",
    "Input: \"fun&!! time\"\n",
    "Output: time\n",
    "\n",
    "Input: \"I love dogs\"\n",
    "Output: love"
   ]
  },
  {
   "cell_type": "code",
   "execution_count": 10,
   "metadata": {},
   "outputs": [],
   "source": [
    "#Starting with a blank empty string where we can use arguments later to filter out any unwanted characters.\n",
    "#.isalpha() will return True if the item is from the alphabet. .isnumeric() returns True if \n",
    "#ALL items in a string are numeric. This is done to not count apostrophes or exclamation points etc.\n",
    "#nw is now a string with all unwanted characters removed. Now, the the next step is to split the string\n",
    "#using the .split() function which will put all of the words in our string into a list of strings where\n",
    "#we can then perform a max function with the key of len on the list to choose the item that is longest in length.\n",
    "#This of course will give us the longest word.\n",
    "def LongestWord(sen):\n",
    "    nw = \"\"\n",
    "    for letter in sen:\n",
    "      if letter.isalpha() or letter.isnumeric():\n",
    "        nw += letter\n",
    "        print(nw)\n",
    "        print(nw.split())\n",
    "      else :\n",
    "        nw += \" \"\n",
    "    return max(nw.split(),key=len)"
   ]
  },
  {
   "cell_type": "code",
   "execution_count": 12,
   "metadata": {},
   "outputs": [
    {
     "name": "stdout",
     "output_type": "stream",
     "text": [
      "H\n",
      "['H']\n",
      "He\n",
      "['He']\n",
      "Hel\n",
      "['Hel']\n",
      "Hell\n",
      "['Hell']\n",
      "Hello\n",
      "['Hello']\n",
      "Hello   p\n",
      "['Hello', 'p']\n",
      "Hello   pe\n",
      "['Hello', 'pe']\n",
      "Hello   per\n",
      "['Hello', 'per']\n",
      "Hello   pers\n",
      "['Hello', 'pers']\n",
      "Hello   perso\n",
      "['Hello', 'perso']\n",
      "Hello   person\n",
      "['Hello', 'person']\n",
      "Hello   person    4\n",
      "['Hello', 'person', '4']\n",
      "Hello   person    45\n",
      "['Hello', 'person', '45']\n"
     ]
    },
    {
     "data": {
      "text/plain": [
       "'person'"
      ]
     },
     "execution_count": 12,
     "metadata": {},
     "output_type": "execute_result"
    }
   ],
   "source": [
    "LongestWord(\"Hello!! person%##^45\")"
   ]
  },
  {
   "cell_type": "markdown",
   "metadata": {},
   "source": [
    "#3 Letter Changes\n",
    "\n",
    "Have the function LetterChanges(str) take the str parameter being passed and modify it using the following algorithm. Replace every letter in the string with the letter following it in the alphabet (ie. c becomes d, z becomes a). Then capitalize every vowel in this new string (a, e, i, o, u) and finally return this modified string.\n",
    "\n",
    "Examples\n",
    "\n",
    "Input: \"hello*3\"\n",
    "Output: Ifmmp*3\n",
    "\n",
    "Input: \"fun times!\"\n",
    "Output: gvO Ujnft!"
   ]
  },
  {
   "cell_type": "code",
   "execution_count": 1,
   "metadata": {},
   "outputs": [],
   "source": [
    "def LetterChanges(str): \n",
    "    newstr = \"\"\n",
    "    outstr = \"\"\n",
    "    for char in str:\n",
    "      if char.isalpha():\n",
    "        if char != \"z\":\n",
    "          newstr = newstr + chr(ord(char)+1)\n",
    "        else:\n",
    "          newstr = newstr + \"a\"\n",
    "      else:\n",
    "        newstr = newstr + char\n",
    "    \n",
    "    for char in newstr:\n",
    "      if (char == \"a\") or (char == \"e\") or (char == \"i\") or (char == \"o\") or (char == \"u\"):\n",
    "        char = char.upper()\n",
    "      outstr = outstr + char\n",
    "    \n",
    "    return outstr\n",
    "    #You have to think of this function not as 'changing' the old string into a new one but rather\n",
    "    #taking the old one and using its information to create a new one. This distinction is important\n",
    "    #because that is why when the function starts we create two empty strings where we will apply\n",
    "    #unique changes to the old string. For the empty newstring we will iterate through each character \n",
    "    #of the parameter passed and after checking to make sure that character is both in the alphabet \n",
    "    #and not a 'z', ord() will be used to turn that character into its unicode version. We will add \n",
    "    #1 to that unicode and then use chr() to turn that unicode back to a character. Then, newstring\n",
    "    #becomes the aggregation of this method as the for loop completes its iteration through the \n",
    "    #parameter passed through. The next thing to do is take that newstring and make sure every vowel\n",
    "    #is capitalized. Once again we will iterate over the string we are working with, in this case our\n",
    "    #new one, and check if that iteration (individual character) is an a,e,i,o, or u. If it is, we will\n",
    "    #use .upper() on that iteration and append that iteration to our newest empty string called outstring."
   ]
  },
  {
   "cell_type": "code",
   "execution_count": 4,
   "metadata": {},
   "outputs": [
    {
     "data": {
      "text/plain": [
       "'Zpv Ibwf Up UIjOl pg UIjt gvOdUjpO'"
      ]
     },
     "execution_count": 4,
     "metadata": {},
     "output_type": "execute_result"
    }
   ],
   "source": [
    "LetterChanges(\"You have to think of this function\")"
   ]
  },
  {
   "cell_type": "markdown",
   "metadata": {},
   "source": [
    "#4 Alphabet Soup\n",
    "\n",
    "Have the function AlphabetSoup(str) take the str string parameter being passed and return the string with the letters in alphabetical order (ie. hello becomes ehllo). Assume numbers and punctuation symbols will not be included in the string.\n",
    "\n",
    "Examples\n",
    "\n",
    "Input: \"coderbyte\"\n",
    "Output: bcdeeorty\n",
    "\n",
    "Input: \"hooplah\"\n",
    "Output: ahhloop"
   ]
  },
  {
   "cell_type": "code",
   "execution_count": 7,
   "metadata": {},
   "outputs": [],
   "source": [
    "def AlphabetSoup(str): \n",
    "\n",
    "    # code goes here \n",
    "    str = list(str)\n",
    "    str.sort()\n",
    "    return \"\".join(str)\n",
    "\n",
    "#The steps to this function are very simple actually. By taking the string being passed through\n",
    "#and turning it into a list, that list can have the method .sort() applied to it which will by\n",
    "#default return that list in ascending order. When that method has been apllied we simply to \n",
    "#turn that list back into a string which can be done joining each item in the list with \"\" in between.\n"
   ]
  },
  {
   "cell_type": "code",
   "execution_count": 8,
   "metadata": {},
   "outputs": [
    {
     "data": {
      "text/plain": [
       "' Heeellloopp'"
      ]
     },
     "execution_count": 8,
     "metadata": {},
     "output_type": "execute_result"
    }
   ],
   "source": [
    "AlphabetSoup(\"Hello people\")"
   ]
  },
  {
   "cell_type": "markdown",
   "metadata": {},
   "source": [
    "#5 Correct Path\n",
    "\n",
    "Have the function CorrectPath(str) read the str parameter being passed, which will represent the movements made in a 5x5 grid of cells starting from the top left position. The characters in the input string will be entirely composed of: r, l, u, d, ?. Each of the characters stand for the direction to take within the grid, for example: r = right, l = left, u = up, d = down. Your goal is to determine what characters the question marks should be in order for a path to be created to go from the top left of the grid all the way to the bottom right without touching previously travelled on cells in the grid.\n",
    "\n",
    "For example: if str is \"r?d?drdd\" then your program should output the final correct string that will allow a path to be formed from the top left of a 5x5 grid to the bottom right. For this input, your program should therefore return the string rrdrdrdd. There will only ever be one correct path and there will always be at least one question mark within the input string.\n",
    "\n",
    "Examples\n",
    "\n",
    "Input: \"???rrurdr?\"\n",
    "Output: dddrrurdrd\n",
    "\n",
    "Input: \"drdr??rrddd?\"\n",
    "Output: drdruurrdddd"
   ]
  },
  {
   "cell_type": "code",
   "execution_count": null,
   "metadata": {},
   "outputs": [],
   "source": []
  },
  {
   "cell_type": "markdown",
   "metadata": {},
   "source": [
    "#6 Questions Marks\n",
    "\n",
    "Have the function QuestionsMarks(str) take the str string parameter, which will contain single digit numbers, letters, and question marks, and check if there are exactly 3 question marks between every pair of two numbers that add up to 10. If so, then your program should return the string true, otherwise it should return the string false. If there aren't any two numbers that add up to 10 in the string, then your program should return false as well.\n",
    "\n",
    "For example: if str is \"arrb6???4xxbl5???eee5\" then your program should return true because there are exactly 3 question marks between 6 and 4, and 3 question marks between 5 and 5 at the end of the string.\n",
    "\n",
    "Examples\n",
    "\n",
    "Input: \"aa6?9\"\n",
    "Output: false\n",
    "\n",
    "Input: \"acc?7??sss?3rr1??????5\"\n",
    "Output: true"
   ]
  },
  {
   "cell_type": "code",
   "execution_count": 4,
   "metadata": {},
   "outputs": [],
   "source": [
    "def QuestionsMarks(src): \n",
    "  result = False\n",
    "  l = len(src)\n",
    "    #first we are leaving the result to be false as a default. This is typical since you want the parameter\n",
    "    #being passed to essentiall pass your tests before you can say its true.\n",
    "    #next, since the parameter being passed can vary in length, we want to be able to know the length of said\n",
    "    #parameter so we can iterate properly.\n",
    "  for i in range(l):\n",
    "    #we have have the range of the length of the parameter so that we can iterate character by character.\n",
    "    #Since the problem requires that we find first a number, then the question marks, then the number,\n",
    "    #here we are going to tell the iterator to continue to the next (i)teration if src[i] isnt an integer\n",
    "    if src[i] not in '0123456789':\n",
    "      continue\n",
    "    #say that we have found the ith iteration to be an integer, then we will start on the next clause.\n",
    "    #Next we want to iterate between the ith iteration (this could be the 2nd or 3rd etc) where we have found\n",
    "    #an integer and start checking from there to the very end of the string for question marks.\n",
    "    #In this case j will serve as this new iterator as it checks between the range of where in the sequence \n",
    "    #we have discovered our first integer and the end of the string. We will use this j to begin counting\n",
    "    #the number of question marks we can find.\n",
    "    qs = 0\n",
    "    for j in range(i + 1, l):\n",
    "      if src[j] == '?':\n",
    "        qs += 1\n",
    "    #since j can be question mark, we will add one to the number of question marks if there is one.\n",
    "    #but it can also be another integer which we also are looking for. If the jth iteration is indeed\n",
    "    #another integer then we will use the ith iteration as the our first integer and then the jth \n",
    "    #iteration as the second integer. We will store these values in variables for later.\n",
    "      if src[j] in '0123456789':\n",
    "        c = int(src[i])\n",
    "        k = int(src[j])\n",
    "        #Now that we have our two integers we must check if they add up to ten and if the ticker\n",
    "        #for number of question marks is exactly equal to three.\n",
    "        if c + k == 10:\n",
    "          if qs != 3:\n",
    "            return 'false'\n",
    "          else:\n",
    "            result = True\n",
    "            break\n",
    "    #if the result is true we will change the value of 'result' to True instead and now \n",
    "    #we can just break the loop since we found what we wanted\n",
    "  \n",
    "    #Now we want the function to return a statement if our variable 'result' is satisfied.\n",
    "    #We use if result (which checks for True) to do this and else for False.\n",
    "  return 'true' if result else 'false'"
   ]
  },
  {
   "cell_type": "code",
   "execution_count": 5,
   "metadata": {},
   "outputs": [
    {
     "data": {
      "text/plain": [
       "'true'"
      ]
     },
     "execution_count": 5,
     "metadata": {},
     "output_type": "execute_result"
    }
   ],
   "source": [
    "QuestionsMarks(\"acc?7??sss?3rr1??????5\")"
   ]
  },
  {
   "cell_type": "code",
   "execution_count": 6,
   "metadata": {},
   "outputs": [
    {
     "data": {
      "text/plain": [
       "'false'"
      ]
     },
     "execution_count": 6,
     "metadata": {},
     "output_type": "execute_result"
    }
   ],
   "source": [
    "QuestionsMarks(\"aa6?9\")"
   ]
  },
  {
   "cell_type": "markdown",
   "metadata": {},
   "source": [
    "#7 Find Intersection\n",
    "\n",
    "Have the function FindIntersection(strArr) read the array of strings stored in strArr which will contain 2 elements: the first element will represent a list of comma-separated numbers sorted in ascending order, the second element will represent a second list of comma-separated numbers (also sorted). Your goal is to return a comma-separated string containing the numbers that occur in elements of strArr in sorted order. If there is no intersection, return the string false.\n",
    "\n",
    "For example: if strArr contains [\"1, 3, 4, 7, 13\", \"1, 2, 4, 13, 15\"] the output should return \"1,4,13\" because those numbers appear in both strings. The array given will not be empty, and each string inside the array will be of numbers sorted in ascending order and may contain negative numbers.\n",
    "\n",
    "Examples\n",
    "\n",
    "Input: [\"1, 3, 4, 7, 13\", \"1, 2, 4, 13, 15\"]\n",
    "Output: 1,4,13\n",
    "\n",
    "Input: [\"1, 3, 9, 10, 17, 18\", \"1, 4, 9, 10\"]\n",
    "Output: 1,9,10"
   ]
  },
  {
   "cell_type": "code",
   "execution_count": 25,
   "metadata": {},
   "outputs": [],
   "source": [
    "def FindIntersection(strArr):\n",
    "    #The function works by taking two strings inside a list. Each string is in the format of\n",
    "    #comma seperated numbers in increasing order. Using the map function, we can take strArr[0]\n",
    "    #and strArr[1], use the map method to iterate through the string and seperate the numbers \n",
    "    #before formatting them into an integer type. We an then apply the set method to turn that\n",
    "    #process of iteration into a another iterable set (list, tuple, dictionary etc.). We will\n",
    "    #store this new set into variables v and q which we will use later.\n",
    "    v = set(map(int, strArr[0].split(', ')))\n",
    "    q = set(map(int, strArr[1].split(', ')))\n",
    "    #Here we will use the iterable&iterable method which, when applied in the manner of\n",
    "    #v&q, will take {1, 3, 4, 7, 13} and {1, 2, 4, 13, 15} and will return a set where\n",
    "    #the i'th  integer of each list was matching. That is, it will return {1, 4, 13}\n",
    "    #We will then turn this set into a list, apply the sorted function on it for \n",
    "    #reassurance purposes and store that into a variable we will call c.\n",
    "    c = sorted(list(v&q))\n",
    "    #If c has a length of 0, we know there weren't any matches.\n",
    "    if len(c) ==0:\n",
    "      return 'false'\n",
    "    #With triple quotes, you can print strings on multiple lines to make text, \n",
    "    #especially lengthy text, easier to read.\n",
    "    d = \"\"\"\"\"\"\n",
    "    #Here we use the familiar range strategy to be able to iterate over a custom length.\n",
    "    #We want to convert our insightful list back to a string so we will iterate through c,\n",
    "    #turn each interation into a string and add that with '+=' to our empty variable d.\n",
    "    #We don't want to forget commas so we will add a comma only on the i'th variables that \n",
    "    #but not the last one.\n",
    "    for i in range(len(c)):\n",
    "        d += str(c[i])\n",
    "        if i<len(c)-1:\n",
    "            d+= \",\"\n",
    "    return d\n",
    "    \n"
   ]
  },
  {
   "cell_type": "code",
   "execution_count": 26,
   "metadata": {},
   "outputs": [
    {
     "data": {
      "text/plain": [
       "'1,4,13'"
      ]
     },
     "execution_count": 26,
     "metadata": {},
     "output_type": "execute_result"
    }
   ],
   "source": [
    "FindIntersection( [\"1, 3, 4, 7, 13\", \"1, 2, 4, 13, 15\"])"
   ]
  },
  {
   "cell_type": "code",
   "execution_count": null,
   "metadata": {},
   "outputs": [],
   "source": []
  }
 ],
 "metadata": {
  "kernelspec": {
   "display_name": "Python 3",
   "language": "python",
   "name": "python3"
  },
  "language_info": {
   "codemirror_mode": {
    "name": "ipython",
    "version": 3
   },
   "file_extension": ".py",
   "mimetype": "text/x-python",
   "name": "python",
   "nbconvert_exporter": "python",
   "pygments_lexer": "ipython3",
   "version": "3.7.2"
  }
 },
 "nbformat": 4,
 "nbformat_minor": 2
}
